{
 "cells": [
  {
   "cell_type": "markdown",
   "metadata": {},
   "source": [
    "# Leak Finder Proof of Concept\n",
    "\n",
    "We don't have access to actual data, so we'll have to take some creative liberties.\n",
    "Let's start by creating a random 'tree' directed graph with 1 source and many sinks -\n",
    "somewhat similar to a water distribution network."
   ]
  },
  {
   "cell_type": "code",
   "execution_count": null,
   "metadata": {},
   "outputs": [],
   "source": [
    "from leak_detection import LeakFinder\n",
    "from random_network import RandomWaterDistributionNetwork\n",
    "import gravis\n",
    "\n",
    "leak_finder = LeakFinder()\n",
    "random_network_maker = RandomWaterDistributionNetwork()"
   ]
  },
  {
   "cell_type": "code",
   "execution_count": null,
   "metadata": {},
   "outputs": [],
   "source": [
    "number_of_nodes = 30\n",
    "flow_input_at_source = 10000\n",
    "number_of_leaks = 3\n",
    "\n",
    "random_network = random_network_maker.random_network(\n",
    "    number_of_nodes,\n",
    "    flow_input_at_source,\n",
    "    number_of_leaks\n",
    ")\n",
    "\n",
    "figure = gravis.d3(random_network)\n",
    "figure.display(inline=True)"
   ]
  },
  {
   "cell_type": "markdown",
   "metadata": {},
   "source": [
    "# Introduce Leaks\n",
    "\n",
    "At the same time as generating our network, we've also introduced a few leaks in random locations throughout the network\n",
    "(places where flow measured out of a pipe is less than flow measured into the pipe). Can we find them?"
   ]
  },
  {
   "cell_type": "code",
   "execution_count": null,
   "metadata": {},
   "outputs": [],
   "source": [
    "leaks = leak_finder.find_leaks(random_network)\n",
    "print(f\"Found {len(leaks)} leaks in the network\")\n",
    "print(\"There are leaks at:\")\n",
    "leaks.sort(key=lambda leak: leak.flow_loss, reverse=True)\n",
    "for leak in leaks:\n",
    "    print(f\"\\t- Node {leak.from_node} with flow loss of ~{leak.flow_loss}\")\n",
    "    for edge in leak.potential_leak_edges():\n",
    "        print(f\"\\t\\t- Potentially on edge {edge}\")"
   ]
  },
  {
   "cell_type": "markdown",
   "metadata": {},
   "source": [
    "# Check junction's pipes are actually leaking\n",
    "\n",
    "Our program has provided us with a list of places we could look for the leak; let's double-check\n",
    "the results are reasonable!"
   ]
  },
  {
   "cell_type": "code",
   "execution_count": null,
   "metadata": {
    "pycharm": {
     "is_executing": true
    }
   },
   "outputs": [],
   "source": [
    "node = 9\n",
    "expected = leak_finder.get_flow_at(random_network, node)\n",
    "actual = leak_finder.get_flow_out_total(random_network, node)\n",
    "\n",
    "print(f\"Expected flow out of node {1} to be {expected}\")\n",
    "print(f\"It was actually {actual}\")"
   ]
  },
  {
   "cell_type": "markdown",
   "source": [
    "# Predict future leaks using historical data\n",
    "\n",
    "Once again - we have no historical data - so we make a network with somewhat random properties (pipe pressure and temperature tolerances), then\n",
    "make predictions on the temperature change necessary to cause leaks, and prioritise repairs on the pipes that are closest to breaking."
   ],
   "metadata": {
    "collapsed": false
   }
  },
  {
   "cell_type": "code",
   "execution_count": null,
   "outputs": [],
   "source": [],
   "metadata": {
    "collapsed": false
   }
  },
  {
   "cell_type": "markdown",
   "metadata": {},
   "source": [
    "# Show work orders in webpage frontend for engineers\n",
    "\n",
    "Finally, we can display our data in priority order, i.e.\n",
    "\n",
    "- current leaks come first, with more leakage having priority over less leakage\n",
    "- then we have predictions for future failures based on historical data and temperature trends"
   ]
  },
  {
   "cell_type": "code",
   "execution_count": null,
   "metadata": {},
   "outputs": [],
   "source": [
    "from work_prettifier import display_work_todo\n",
    "display_work_todo(leaks, [])"
   ]
  }
 ],
 "metadata": {
  "kernelspec": {
   "display_name": "Python 3 (ipykernel)",
   "language": "python",
   "name": "python3"
  },
  "language_info": {
   "codemirror_mode": {
    "name": "ipython",
    "version": 3
   },
   "file_extension": ".py",
   "mimetype": "text/x-python",
   "name": "python",
   "nbconvert_exporter": "python",
   "pygments_lexer": "ipython3",
   "version": "3.11.0rc1"
  }
 },
 "nbformat": 4,
 "nbformat_minor": 1
}
